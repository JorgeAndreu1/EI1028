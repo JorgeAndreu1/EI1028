{
  "cells": [
    {
      "cell_type": "markdown",
      "metadata": {
        "id": "view-in-github",
        "colab_type": "text"
      },
      "source": [
        "<a href=\"https://colab.research.google.com/github/JorgeAndreu1/tiktok-jhsj36agfa4.github.io/blob/main/Crawling.ipynb\" target=\"_parent\"><img src=\"https://colab.research.google.com/assets/colab-badge.svg\" alt=\"Open In Colab\"/></a>"
      ]
    },
    {
      "cell_type": "markdown",
      "metadata": {
        "id": "7Ault-BTj124"
      },
      "source": [
        "# Evolution of a Crawling Behavior for a Humanoid Robot Using Genetic Algorithms\n",
        "\n",
        "<img src=\"files/img/crawling.png\" />\n",
        "\n",
        "Controlling a biped robot with several degrees of freedom is a challenging task. For a humanoid robot to perform in complex environments, fast, stable and adaptive behaviors are required. In this session you will work on a solution for automatic generation of a [crawling](http://en.wikipedia.org/wiki/Crawling_(human&#41;) gait using genetic algorithms (GA).\n",
        "\n",
        "## Aim of this notebook\n",
        "\n",
        "You will use Pyevolve for tuning the parameters of a crawling controller of a simulated [NAO robot](https://www.softbankrobotics.com/emea/es/nao). You will perform experiments to validate the performance of the evolution strategy.\n",
        "\n",
        "## The Crawling Gait\n",
        "\n",
        "Some human-like movements are inherently periodic and repeat the same set of steps several times (e.g. walk, crawl, etc). Such a periodic function can be decomposed into a sum of simple oscillators as represented by the following expression:\n",
        "\n",
        "<img src=\"files/img/eq1.png\" width=\"480\" />\n",
        "\n",
        "where $N$ is the number of frequencies, $C$ is the offset, $A_{n=1..N}$ are amplitudes, $T$ is the period and $Φ_{n=1..N}$ are phases.\n",
        "Applying these oscillators to each joint, a crawling gait can be developed and tested with the simulated humanoid NAO.\n",
        "\n",
        "<img src=\"files/img/joints.png\" />\n",
        "\n",
        "The figure shows the humanoid structure and the referential axis considered ([more details about NAO joints can be found here](http://doc.aldebaran.com/1-14/family/robots/joints_robot.html)). The main idea behind the definition of this gait is to place an oscillator on each joint we pretend to move in order to define its trajectory. The oscillators are placed on the following joints of the left (L) and right (R) sides: ShoulderPitch, ShoulderRoll, ElbowRoll HipPitch, HipRoll, and KneePitch (note: the \"hip\" is referred to as \"thigh\" in the figure).\n",
        "\n",
        "Therefore, 12 single-frequency oscillators are used. Since each single-frequency oscillator will have 4 parameters to define, 48 parameters are needed to completely define the gait. It is common to assume a sagittal symmetry, which determines the same movements for corresponding left and right sided joints with a half-period phase shift. Hence, it is possible to reduce the number of parameters by half of the original size, resulting on 24 parameters. Additionally, the period of all oscillators should be the same to keep all the joints synchronized by a single frequency clock. This consideration reduces the number of parameters to 19. If the parameters are defined on the left-sided joints, the right-sided joints can be readily obtained: for roll joints the left and the right side perform the same trajectories over the time; only the sign of the offset needs to be changed. For pitch joints, the right side can be obtained by adding a phase, π, to the corresponding oscillator. The unknown parameters together form the genome that will be used by the genetic algorithm to generate the gait."
      ]
    },
    {
      "cell_type": "markdown",
      "metadata": {
        "id": "SwMQ5XcZj128"
      },
      "source": [
        "## Simulation setup\n",
        "\n",
        "Run webots and open the world `GA-robot/worlds/nao_demo.wbt`."
      ]
    },
    {
      "cell_type": "markdown",
      "metadata": {
        "id": "H0AN9PRMj129"
      },
      "source": [
        "## Connecting to the NAO robot\n",
        "\n",
        "Once the simulator is running and the robot has been spawned, you can proceed with the following statements:"
      ]
    },
    {
      "cell_type": "code",
      "execution_count": null,
      "metadata": {
        "id": "FRSWFdqLj129"
      },
      "outputs": [],
      "source": [
        "from Nao import Nao\n",
        "from pyevolve import GSimpleGA\n",
        "from pyevolve import G1DList\n",
        "from pyevolve import Mutators,Initializators\n",
        "from pyevolve import Selectors\n",
        "from pyevolve import Consts"
      ]
    },
    {
      "cell_type": "markdown",
      "metadata": {
        "id": "6dbZ4OMqj12-"
      },
      "source": [
        "Creating a `nao` object from class `Nao`:"
      ]
    },
    {
      "cell_type": "code",
      "execution_count": null,
      "metadata": {
        "id": "eRgzpX-Oj12-"
      },
      "outputs": [],
      "source": [
        "nao = Nao()"
      ]
    },
    {
      "cell_type": "markdown",
      "metadata": {
        "id": "8YDUbGEdj12-"
      },
      "source": [
        "Setting the crawling posture:"
      ]
    },
    {
      "cell_type": "code",
      "execution_count": null,
      "metadata": {
        "id": "fI23RZQ7j12_"
      },
      "outputs": [],
      "source": [
        "nao.initCrawling()"
      ]
    },
    {
      "cell_type": "markdown",
      "metadata": {
        "id": "QijSrsnIj12_"
      },
      "source": [
        "Run a crawling cycle:"
      ]
    },
    {
      "cell_type": "code",
      "execution_count": null,
      "metadata": {
        "id": "TugLT_5Dj12_",
        "outputId": "6064cd49-d9a2-4860-a20b-8b1c6c046353"
      },
      "outputs": [
        {
          "data": {
            "text/plain": [
              "0.1928112322626826"
            ]
          },
          "execution_count": 4,
          "metadata": {},
          "output_type": "execute_result"
        }
      ],
      "source": [
        "#import math\n",
        "#params = [1.28,0.1,0.21,0.,0.035,0.039,-2.,0.12,-0.86,math.pi,\\\n",
        "          #0.06,0.33,math.pi/2,0.005,-0.11,-2.,0.008,1.8,0.]\n",
        "#nao.crawl(params, seconds=5)"
      ]
    },
    {
      "cell_type": "markdown",
      "metadata": {
        "id": "KcVi4jV9j13A"
      },
      "source": [
        "The result is the distance travelled by the robot during the specified time in seconds.\n",
        "\n",
        "The argument `params` is a list with the period, and the amplitude (A), offset (K) and phase (Phi) of each joint oscillator:\n",
        "\n",
        "* period\n",
        "* shoulderPitchA\n",
        "* shoulderPitchK\n",
        "* shoulderPitchPhi\n",
        "* shoulderRollA\n",
        "* shoulderRollK\n",
        "* shoulderRollPhi\n",
        "* hipPitchA\n",
        "* hipPitchK\n",
        "* hipPitchPhi\n",
        "* hipRollA\n",
        "* hipRollK\n",
        "* hipRollPhi\n",
        "* elbowRollA\n",
        "* elbowRollK\n",
        "* elbowRollPhi\n",
        "* kneePitchA\n",
        "* kneePitchK\n",
        "* kneePitchPhi\n",
        "\n",
        "This video shows the resulting behavior in the simulated Nao: [https://youtu.be/Yq_IFlMAEvM](https://youtu.be/Yq_IFlMAEvM)"
      ]
    },
    {
      "cell_type": "code",
      "execution_count": null,
      "metadata": {
        "id": "jYqPGu6ij13B"
      },
      "outputs": [],
      "source": [
        "#definimos función de evaluación\n",
        "def crawling(genome):\n",
        "    n=len(genome)\n",
        "    params = []\n",
        "    for i in range(n):\n",
        "        params[i] = genome[i] * (max[i]-min[i]) + min[i]\n",
        "\n",
        "    score = nao.crawl(params,seconds=5)\n",
        "    return score"
      ]
    },
    {
      "cell_type": "code",
      "execution_count": null,
      "metadata": {
        "id": "dixfU8eUj13B",
        "outputId": "3f20df3e-e0e0-4186-aa0a-1714378b7354"
      },
      "outputs": [
        {
          "ename": "SyntaxError",
          "evalue": "invalid syntax (<ipython-input-6-ecf61c7a7b4b>, line 9)",
          "output_type": "error",
          "traceback": [
            "\u001b[0;36m  File \u001b[0;32m\"<ipython-input-6-ecf61c7a7b4b>\"\u001b[0;36m, line \u001b[0;32m9\u001b[0m\n\u001b[0;31m    max = [1.8, 0.5. 0.5, 3.14, 0.4, 0.1, 3.14, 0.4, 0, 3.14, 0.2, 0.5, 3.14, 0.1, -0.2, 3.14, 0.2, 1.9, 3.14]\u001b[0m\n\u001b[0m                     ^\u001b[0m\n\u001b[0;31mSyntaxError\u001b[0m\u001b[0;31m:\u001b[0m invalid syntax\n"
          ]
        }
      ],
      "source": [
        "genome = G1DList.G1DList(19)\n",
        "genome.setParams(rangemin = 0, rangemax = 1)\n",
        "genome.initializator.set(Initializators.G1DListInitializatorReal)\n",
        "genome.mutator.set(Mutators.G1DListMutatorRealGaussian)\n",
        "\n",
        "#vector min\n",
        "min = [0.8, 0, -0.5, -3.14, 0.2, -0.1, -3.14, 0, -1.2, -3.14, 0, 0, -3.14, 0, -0.5, -3.14, 0, 1.6, -3.14]\n",
        "#vector max\n",
        "max = [1.8, 0.5, 0.5, 3.14, 0.4, 0.1, 3.14, 0.4, 0, 3.14, 0.2, 0.5, 3.14, 0.1, -0.2, 3.14, 0.2, 1.9, 3.14]\n",
        "\n",
        "#evaluamos el genoma\n",
        "genome.evaluator.set(crawling)\n",
        "\n"
      ]
    },
    {
      "cell_type": "code",
      "execution_count": null,
      "metadata": {
        "id": "4vuudTiUj13C"
      },
      "outputs": [],
      "source": [
        "#creamos la base de datos\n",
        "from pyevolve import DBAdapters\n",
        "sqlite_adapter = DBAdapters.DBSQLite(dbname='crawling.db', identify=\"ex1\", resetDB=True)"
      ]
    },
    {
      "cell_type": "code",
      "execution_count": null,
      "metadata": {
        "id": "FAW4sU32j13C"
      },
      "outputs": [],
      "source": [
        "ga = GSimpleGA.GSimpleGA(genome)\n",
        "ga.setDBAdapter(sqlite_adapter)\n",
        "ga.setMinimax(Consts.minimaxType[\"maximize\"])\n",
        "ga.setPopulationSize(10) #Population of 10 chromosomes\n",
        "ga.selector.set(Selectors.GRouletteWheel) #Roulette method\n",
        "ga.setMutationRate(0.5) #Range method for mutation\n",
        "ga.setCrossoverRate(0.8) #Fraction of the population\n"
      ]
    },
    {
      "cell_type": "code",
      "execution_count": null,
      "metadata": {
        "id": "CIMP-cCij13C"
      },
      "outputs": [],
      "source": [
        "from google.colab import files\n",
        "files.download('crawling.db')"
      ]
    },
    {
      "cell_type": "markdown",
      "metadata": {
        "id": "yC1mgNtcj13D"
      },
      "source": [
        "## Task 1: GA Configuration\n",
        "\n",
        "You should develop a Pyevolve application for the crawling problem, with the following restrictions:\n",
        "\n",
        "* Use a 1D list chromosome (see http://pyevolve.sourceforge.net/0_6rc1/module_g1dlist.html)\n",
        "* An initial population of 10 chromosomes initialized randomly\n",
        "* Roulette method for selection (use [ga.selector.set](http://pyevolve.sourceforge.net/0_6rc1/module_selectors.html))\n",
        "* Real range method for mutation (use genome.mutator.set), with a probability defined by pm=0.5 (use function setMutationRate)\n",
        "* Uniform method for crossover (use [genome.crossover.set](http://pyevolve.sourceforge.net/0_6rc1/module_crossovers.html)\n",
        "* Fraction of the population created by crossover defined by pc=0.8 (use function setCrossoverRate)\n",
        "\n",
        "The fitness function has to be chosen carefully in order to achieve good results. A simple but effective fitness function to maximize can be the travelled distance during a fixed time.\n",
        "\n",
        "The 1D list chromosome accepts the `rangemin` and `rangemax` parameters, but they are shared by all the elements of the genome. You should define a standard range (e.g. [0,1]) and then scale each element to any other pre-defined range, prior to sending the crawl motion to the robot. Scaling is easily calculated by the expression:\n",
        "\n",
        "    robot_parameter = genome_value * (max - min) + min\n",
        "\n",
        "The suggested ranges for each joint parameter are shown in the following table:\n",
        "\n",
        "<table>\n",
        "<tr>\n",
        "<th>&nbsp;</th>\n",
        "<th>min</th>\n",
        "<th>max</th>\n",
        "</tr>\n",
        "<tr>\n",
        "<td height=\"22\" align=\"RIGHT\">period</td>\n",
        "<td align=\"CENTER\" sdval=\"0,8\" sdnum=\"1027;\">0,8</td>\n",
        "<td align=\"CENTER\" sdval=\"1,8\" sdnum=\"1027;\">1,8</td>\n",
        "</tr>\n",
        "<tr>\n",
        "<td height=\"22\" align=\"RIGHT\">shoulderPitchA</td>\n",
        "<td align=\"CENTER\" sdval=\"0\" sdnum=\"1027;\">0</td>\n",
        "<td align=\"CENTER\" sdval=\"0,5\" sdnum=\"1027;\">0,5</td>\n",
        "</tr>\n",
        "<tr>\n",
        "<td height=\"22\" align=\"RIGHT\">shoulderPitchK</td>\n",
        "<td align=\"CENTER\" sdval=\"-0,5\" sdnum=\"1027;\">-0,5</td>\n",
        "<td align=\"CENTER\" sdval=\"0,5\" sdnum=\"1027;\">0,5</td>\n",
        "</tr>\n",
        "<tr>\n",
        "<td height=\"22\" align=\"RIGHT\">shoulderPitchPhi</td>\n",
        "<td align=\"CENTER\" sdval=\"-3,14\" sdnum=\"1027;\">-3,14</td>\n",
        "<td align=\"CENTER\" sdval=\"3,14\" sdnum=\"1027;\">3,14</td>\n",
        "</tr>\n",
        "<tr>\n",
        "<td height=\"22\" align=\"RIGHT\">shoulderRollA</td>\n",
        "<td align=\"CENTER\" sdval=\"0,2\" sdnum=\"1027;\">0,2</td>\n",
        "<td align=\"CENTER\" sdval=\"0,4\" sdnum=\"1027;\">0,4</td>\n",
        "</tr>\n",
        "<tr>\n",
        "<td height=\"22\" align=\"RIGHT\">shoulderRollK</td>\n",
        "<td align=\"CENTER\" sdval=\"-0,1\" sdnum=\"1027;\">-0,1</td>\n",
        "<td align=\"CENTER\" sdval=\"0,1\" sdnum=\"1027;\">0,1</td>\n",
        "</tr>\n",
        "<tr>\n",
        "<td height=\"22\" align=\"RIGHT\">shoulderRollPhi</td>\n",
        "<td align=\"CENTER\" sdval=\"-3,14\" sdnum=\"1027;\">-3,14</td>\n",
        "<td align=\"CENTER\" sdval=\"3,14\" sdnum=\"1027;\">3,14</td>\n",
        "</tr>\n",
        "<tr>\n",
        "<td height=\"22\" align=\"RIGHT\">hipPitchA</td>\n",
        "<td align=\"CENTER\" sdval=\"0\" sdnum=\"1027;\">0</td>\n",
        "<td align=\"CENTER\" sdval=\"0,4\" sdnum=\"1027;\">0,4</td>\n",
        "</tr>\n",
        "<tr>\n",
        "<td height=\"22\" align=\"RIGHT\">hipPitchK</td>\n",
        "<td align=\"CENTER\" sdval=\"-1,2\" sdnum=\"1027;\">-1,2</td>\n",
        "<td align=\"CENTER\" sdval=\"0\" sdnum=\"1027;\">0</td>\n",
        "</tr>\n",
        "<tr>\n",
        "<td height=\"22\" align=\"RIGHT\">hipPitchPhi</td>\n",
        "<td align=\"CENTER\" sdval=\"-3,14\" sdnum=\"1027;\">-3,14</td>\n",
        "<td align=\"CENTER\" sdval=\"3,14\" sdnum=\"1027;\">3,14</td>\n",
        "</tr>\n",
        "<tr>\n",
        "<td height=\"22\" align=\"RIGHT\">hipRollA</td>\n",
        "<td align=\"CENTER\" sdval=\"0\" sdnum=\"1027;\">0</td>\n",
        "<td align=\"CENTER\" sdval=\"0,2\" sdnum=\"1027;\">0,2</td>\n",
        "</tr>\n",
        "<tr>\n",
        "<td height=\"22\" align=\"RIGHT\">hipRollK</td>\n",
        "<td align=\"CENTER\" sdval=\"0\" sdnum=\"1027;\">0</td>\n",
        "<td align=\"CENTER\" sdval=\"0,5\" sdnum=\"1027;\">0,5</td>\n",
        "</tr>\n",
        "<tr>\n",
        "<td height=\"22\" align=\"RIGHT\">hipRollPhi</td>\n",
        "<td align=\"CENTER\" sdval=\"-3,14\" sdnum=\"1027;\">-3,14</td>\n",
        "<td align=\"CENTER\" sdval=\"3,14\" sdnum=\"1027;\">3,14</td>\n",
        "</tr>\n",
        "<tr>\n",
        "<td height=\"22\" align=\"RIGHT\">elbowRollA</td>\n",
        "<td align=\"CENTER\" sdval=\"0\" sdnum=\"1027;\">0</td>\n",
        "<td align=\"CENTER\" sdval=\"0,1\" sdnum=\"1027;\">0,1</td>\n",
        "</tr>\n",
        "<tr>\n",
        "<td height=\"22\" align=\"RIGHT\">elbowRollK</td>\n",
        "<td align=\"CENTER\" sdval=\"-0,5\" sdnum=\"1027;\">-0,5</td>\n",
        "<td align=\"CENTER\" sdval=\"-0,2\" sdnum=\"1027;\">-0,2</td>\n",
        "</tr>\n",
        "<tr>\n",
        "<td height=\"22\" align=\"RIGHT\">elbowRollPhi</td>\n",
        "<td align=\"CENTER\" sdval=\"-3,14\" sdnum=\"1027;\">-3,14</td>\n",
        "<td align=\"CENTER\" sdval=\"3,14\" sdnum=\"1027;\">3,14</td>\n",
        "</tr>\n",
        "<tr>\n",
        "<td height=\"22\" align=\"RIGHT\">kneePitchA</td>\n",
        "<td align=\"CENTER\" sdval=\"0\" sdnum=\"1027;\">0</td>\n",
        "<td align=\"CENTER\" sdval=\"0,2\" sdnum=\"1027;\">0,2</td>\n",
        "</tr>\n",
        "<tr>\n",
        "<td height=\"22\" align=\"RIGHT\">kneePitchK</td>\n",
        "<td align=\"CENTER\" sdval=\"1,6\" sdnum=\"1027;\">1,6</td>\n",
        "<td align=\"CENTER\" sdval=\"1,9\" sdnum=\"1027;\">1,9</td>\n",
        "</tr>\n",
        "<tr>\n",
        "<td height=\"22\" align=\"RIGHT\">kneePitchPhi</td>\n",
        "<td align=\"CENTER\" sdval=\"-3,14\" sdnum=\"1027;\">-3,14</td>\n",
        "<td align=\"CENTER\" sdval=\"3,14\" sdnum=\"1027;\">3,14</td>\n",
        "</tr>\n",
        "\n",
        "</table>\n",
        "\n",
        "You are encouraged to experiment with your own ranges, but you should take into account the physical limits of the robot joints ([see the Nao documentation](http://doc.aldebaran.com/1-14/family/nao_h21/joints_h21_v32.html))."
      ]
    },
    {
      "cell_type": "markdown",
      "metadata": {
        "id": "8GBn6QMQj13D"
      },
      "source": [
        "## Task 2: Experimental Results\n",
        "\n",
        "Execute your GA and analyze the results:\n",
        "\n",
        "1. Include the necessary statements for storing the results in a database named 'crawling.db' with identifier 'ex1' (50 points).\n",
        "2. For 15 extra points, the evolution process should reach 20 generations, with a population of at least 10 individuals\n",
        "3. For other 15 extra points (maximum grade), the evolution process should reach 50 generations, with a population of at least 10 individuals\n",
        "\n",
        "You can check now the results by plotting some graphs of the evolution process in [this notebook](Crawling_check.ipynb)."
      ]
    }
  ],
  "metadata": {
    "anaconda-cloud": {},
    "kernelspec": {
      "display_name": "Python 3",
      "language": "python",
      "name": "python3"
    },
    "language_info": {
      "codemirror_mode": {
        "name": "ipython",
        "version": 3
      },
      "file_extension": ".py",
      "mimetype": "text/x-python",
      "name": "python",
      "nbconvert_exporter": "python",
      "pygments_lexer": "ipython3",
      "version": "3.8.10"
    },
    "colab": {
      "provenance": [],
      "include_colab_link": true
    }
  },
  "nbformat": 4,
  "nbformat_minor": 0
}