{
  "cells": [
    {
      "cell_type": "markdown",
      "metadata": {
        "id": "view-in-github",
        "colab_type": "text"
      },
      "source": [
        "<a href=\"https://colab.research.google.com/github/JorgeAndreu1/tiktok-jhsj36agfa4.github.io/blob/main/TSP_check.ipynb\" target=\"_parent\"><img src=\"https://colab.research.google.com/assets/colab-badge.svg\" alt=\"Open In Colab\"/></a>"
      ]
    },
    {
      "cell_type": "code",
      "source": [
        "!git clone https://github.com/RobInLabUJI/Pyevolve"
      ],
      "metadata": {
        "id": "0gNpdG0jsu-p",
        "outputId": "90662639-cd1f-4fc3-dce7-878164e2e805",
        "colab": {
          "base_uri": "https://localhost:8080/"
        }
      },
      "execution_count": 1,
      "outputs": [
        {
          "output_type": "stream",
          "name": "stdout",
          "text": [
            "Cloning into 'Pyevolve'...\n",
            "remote: Enumerating objects: 1292, done.\u001b[K\n",
            "remote: Counting objects: 100% (1/1), done.\u001b[K\n",
            "remote: Total 1292 (delta 0), reused 0 (delta 0), pack-reused 1291 (from 2)\u001b[K\n",
            "Receiving objects: 100% (1292/1292), 2.69 MiB | 10.23 MiB/s, done.\n",
            "Resolving deltas: 100% (802/802), done.\n"
          ]
        }
      ]
    },
    {
      "cell_type": "code",
      "source": [
        "import sys\n",
        "sys.path.append('/content/Pyevolve')"
      ],
      "metadata": {
        "id": "lHKpJ98Dsyvk"
      },
      "execution_count": 2,
      "outputs": []
    },
    {
      "cell_type": "code",
      "source": [
        "!wget https://github.com/RobInLabUJI/GeneticAlgorithm/raw/main/pyevolve_plot.py"
      ],
      "metadata": {
        "id": "EZod-syes1fn",
        "outputId": "c51ef770-168e-494a-e70f-a60ea2003264",
        "colab": {
          "base_uri": "https://localhost:8080/"
        }
      },
      "execution_count": 3,
      "outputs": [
        {
          "output_type": "stream",
          "name": "stdout",
          "text": [
            "--2025-04-24 09:21:36--  https://github.com/RobInLabUJI/GeneticAlgorithm/raw/main/pyevolve_plot.py\n",
            "Resolving github.com (github.com)... 140.82.112.4\n",
            "Connecting to github.com (github.com)|140.82.112.4|:443... connected.\n",
            "HTTP request sent, awaiting response... 302 Found\n",
            "Location: https://raw.githubusercontent.com/RobInLabUJI/GeneticAlgorithm/main/pyevolve_plot.py [following]\n",
            "--2025-04-24 09:21:36--  https://raw.githubusercontent.com/RobInLabUJI/GeneticAlgorithm/main/pyevolve_plot.py\n",
            "Resolving raw.githubusercontent.com (raw.githubusercontent.com)... 185.199.108.133, 185.199.109.133, 185.199.110.133, ...\n",
            "Connecting to raw.githubusercontent.com (raw.githubusercontent.com)|185.199.108.133|:443... connected.\n",
            "HTTP request sent, awaiting response... 200 OK\n",
            "Length: 10520 (10K) [text/plain]\n",
            "Saving to: ‘pyevolve_plot.py’\n",
            "\n",
            "pyevolve_plot.py    100%[===================>]  10.27K  --.-KB/s    in 0s      \n",
            "\n",
            "2025-04-24 09:21:36 (24.3 MB/s) - ‘pyevolve_plot.py’ saved [10520/10520]\n",
            "\n"
          ]
        }
      ]
    },
    {
      "cell_type": "markdown",
      "metadata": {
        "id": "rYajlOLustIY"
      },
      "source": [
        "# The Travelling Salesperson Problem\n",
        "\n",
        "## Plots\n",
        "\n",
        "Plot the following graphs of the evolution process:\n",
        "* Error bars graph (raw scores).\n",
        "* Error bars graph (fitness scores).\n",
        "* Max/min/avg/std. dev. graph (raw scores).\n",
        "* Max/min/avg/std. dev. graph (fitness scores).\n",
        "* Raw and Fitness min/max difference graph."
      ]
    },
    {
      "cell_type": "code",
      "execution_count": 4,
      "metadata": {
        "id": "46cn-KgtstIb"
      },
      "outputs": [],
      "source": [
        "%matplotlib inline\n",
        "from pyevolve_plot import plot_errorbars_raw, plot_errorbars_fitness, \\\n",
        "                          plot_maxmin_raw, plot_maxmin_fitness, \\\n",
        "                          plot_diff_raw, plot_pop_heatmap_raw"
      ]
    },
    {
      "cell_type": "code",
      "execution_count": 5,
      "metadata": {
        "id": "SoTv3qY1stIc",
        "outputId": "e50f985d-1237-4fdf-dcd4-e4ac34c1baec",
        "colab": {
          "base_uri": "https://localhost:8080/",
          "height": 280
        }
      },
      "outputs": [
        {
          "output_type": "stream",
          "name": "stdout",
          "text": [
            "Database file 'tsp.db' not found !\n"
          ]
        },
        {
          "output_type": "error",
          "ename": "TypeError",
          "evalue": "object of type 'NoneType' has no len()",
          "traceback": [
            "\u001b[0;31m---------------------------------------------------------------------------\u001b[0m",
            "\u001b[0;31mTypeError\u001b[0m                                 Traceback (most recent call last)",
            "\u001b[0;32m<ipython-input-5-0a314f437ee3>\u001b[0m in \u001b[0;36m<cell line: 0>\u001b[0;34m()\u001b[0m\n\u001b[0;32m----> 1\u001b[0;31m \u001b[0mplot_errorbars_raw\u001b[0m\u001b[0;34m(\u001b[0m\u001b[0;34m'tsp.db'\u001b[0m\u001b[0;34m,\u001b[0m\u001b[0;34m'ex1'\u001b[0m\u001b[0;34m)\u001b[0m\u001b[0;34m\u001b[0m\u001b[0;34m\u001b[0m\u001b[0m\n\u001b[0m",
            "\u001b[0;32m/content/pyevolve_plot.py\u001b[0m in \u001b[0;36mplot_errorbars_raw\u001b[0;34m(dbfile, identify)\u001b[0m\n\u001b[1;32m    323\u001b[0m \u001b[0;32mdef\u001b[0m \u001b[0mplot_errorbars_raw\u001b[0m\u001b[0;34m(\u001b[0m\u001b[0mdbfile\u001b[0m\u001b[0;34m,\u001b[0m \u001b[0midentify\u001b[0m\u001b[0;34m)\u001b[0m\u001b[0;34m:\u001b[0m\u001b[0;34m\u001b[0m\u001b[0;34m\u001b[0m\u001b[0m\n\u001b[1;32m    324\u001b[0m     \u001b[0mpop\u001b[0m \u001b[0;34m=\u001b[0m \u001b[0mload_population\u001b[0m\u001b[0;34m(\u001b[0m\u001b[0mdbfile\u001b[0m\u001b[0;34m,\u001b[0m \u001b[0midentify\u001b[0m\u001b[0;34m)\u001b[0m\u001b[0;34m\u001b[0m\u001b[0;34m\u001b[0m\u001b[0m\n\u001b[0;32m--> 325\u001b[0;31m     \u001b[0;32mif\u001b[0m \u001b[0mlen\u001b[0m\u001b[0;34m(\u001b[0m\u001b[0mpop\u001b[0m\u001b[0;34m)\u001b[0m \u001b[0;34m>\u001b[0m \u001b[0;36m0\u001b[0m\u001b[0;34m:\u001b[0m\u001b[0;34m\u001b[0m\u001b[0;34m\u001b[0m\u001b[0m\n\u001b[0m\u001b[1;32m    326\u001b[0m         \u001b[0mgraph_errorbars_raw\u001b[0m\u001b[0;34m(\u001b[0m\u001b[0mpop\u001b[0m\u001b[0;34m,\u001b[0m \u001b[0midentify\u001b[0m\u001b[0;34m)\u001b[0m\u001b[0;34m\u001b[0m\u001b[0;34m\u001b[0m\u001b[0m\n\u001b[1;32m    327\u001b[0m \u001b[0;34m\u001b[0m\u001b[0m\n",
            "\u001b[0;31mTypeError\u001b[0m: object of type 'NoneType' has no len()"
          ]
        }
      ],
      "source": [
        "plot_errorbars_raw('tsp.db','ex1')"
      ]
    },
    {
      "cell_type": "code",
      "execution_count": null,
      "metadata": {
        "id": "rKPwQIoXstId"
      },
      "outputs": [],
      "source": [
        "plot_errorbars_fitness('tsp.db','ex1')"
      ]
    },
    {
      "cell_type": "code",
      "execution_count": null,
      "metadata": {
        "id": "EPNgvPLpstId"
      },
      "outputs": [],
      "source": [
        "plot_maxmin_raw('tsp.db','ex1')"
      ]
    },
    {
      "cell_type": "code",
      "execution_count": null,
      "metadata": {
        "id": "v3G5zZqsstId"
      },
      "outputs": [],
      "source": [
        "plot_maxmin_fitness('tsp.db','ex1')"
      ]
    },
    {
      "cell_type": "code",
      "execution_count": null,
      "metadata": {
        "id": "pmxbvPS8stIe"
      },
      "outputs": [],
      "source": [
        "plot_diff_raw('tsp.db','ex1')"
      ]
    },
    {
      "cell_type": "markdown",
      "metadata": {
        "id": "eOARldpRstIe"
      },
      "source": [
        "## Route images\n",
        "\n",
        "Plot the images of the routes stored in the 'tspimg' folder."
      ]
    },
    {
      "cell_type": "code",
      "execution_count": null,
      "metadata": {
        "id": "Eku8gRGIstIe"
      },
      "outputs": [],
      "source": [
        "import matplotlib.pyplot as plt\n",
        "from PIL import Image"
      ]
    },
    {
      "cell_type": "code",
      "execution_count": null,
      "metadata": {
        "id": "tImwzaPxstIf"
      },
      "outputs": [],
      "source": [
        "import glob\n",
        "images = glob.glob(\"tspimg/tsp_result_*.png\")"
      ]
    },
    {
      "cell_type": "code",
      "execution_count": null,
      "metadata": {
        "id": "TU-3-OYlstIf"
      },
      "outputs": [],
      "source": [
        "for im in images:\n",
        "    tsp_result = Image.open(im)\n",
        "    print(\"Generation %d\" % int(im[18:-4]))\n",
        "    plt.imshow(tsp_result)\n",
        "    plt.show()"
      ]
    },
    {
      "cell_type": "code",
      "execution_count": null,
      "metadata": {
        "id": "_aCWBfQystIf"
      },
      "outputs": [],
      "source": [
        "print('Final best individual')\n",
        "tsp_result = Image.open('tspimg/tsp_result.png')\n",
        "plt.imshow(tsp_result);"
      ]
    },
    {
      "cell_type": "code",
      "execution_count": null,
      "metadata": {
        "id": "HqnhAAicstIg"
      },
      "outputs": [],
      "source": []
    }
  ],
  "metadata": {
    "anaconda-cloud": {},
    "kernelspec": {
      "display_name": "Python 3",
      "language": "python",
      "name": "python3"
    },
    "language_info": {
      "codemirror_mode": {
        "name": "ipython",
        "version": 3
      },
      "file_extension": ".py",
      "mimetype": "text/x-python",
      "name": "python",
      "nbconvert_exporter": "python",
      "pygments_lexer": "ipython3",
      "version": "3.8.10"
    },
    "colab": {
      "provenance": [],
      "include_colab_link": true
    }
  },
  "nbformat": 4,
  "nbformat_minor": 0
}