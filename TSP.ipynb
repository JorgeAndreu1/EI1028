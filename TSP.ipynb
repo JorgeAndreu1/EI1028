{
  "cells": [
    {
      "cell_type": "markdown",
      "metadata": {
        "id": "view-in-github",
        "colab_type": "text"
      },
      "source": [
        "<a href=\"https://colab.research.google.com/github/JorgeAndreu1/tiktok-jhsj36agfa4.github.io/blob/main/TSP.ipynb\" target=\"_parent\"><img src=\"https://colab.research.google.com/assets/colab-badge.svg\" alt=\"Open In Colab\"/></a>"
      ]
    },
    {
      "cell_type": "code",
      "source": [
        "!git clone https://github.com/RobInLabUJI/Pyevolve"
      ],
      "metadata": {
        "id": "ODjFLQpBqlXa",
        "outputId": "89d7ad69-7562-4645-f29f-0dedeaf29053",
        "colab": {
          "base_uri": "https://localhost:8080/"
        }
      },
      "execution_count": 17,
      "outputs": [
        {
          "output_type": "stream",
          "name": "stdout",
          "text": [
            "fatal: destination path 'Pyevolve' already exists and is not an empty directory.\n"
          ]
        }
      ]
    },
    {
      "cell_type": "code",
      "source": [
        "import sys\n",
        "sys.path.append('/content/Pyevolve')"
      ],
      "metadata": {
        "id": "Iju7PZZ4qqjX"
      },
      "execution_count": 18,
      "outputs": []
    },
    {
      "cell_type": "code",
      "source": [
        "\n",
        "import collections\n",
        "collections.Callable = collections.abc.Callable"
      ],
      "metadata": {
        "id": "WUWSgSQbUZoq"
      },
      "execution_count": 19,
      "outputs": []
    },
    {
      "cell_type": "code",
      "source": [
        "!mkdir -p tspimg"
      ],
      "metadata": {
        "id": "58hohZ_QUvuu"
      },
      "execution_count": 20,
      "outputs": []
    },
    {
      "cell_type": "markdown",
      "metadata": {
        "id": "VitjOHOCqahd"
      },
      "source": [
        "# The Travelling Salesperson Problem\n",
        "\n",
        "This notebook has been adapted from [a Pyevolve example](http://pyevolve.sourceforge.net/0_6rc1/examples.html#example-12-the-travelling-salesman-problem-tsp).\n",
        "\n",
        "The [travelling salesperson problem (TSP)](http://en.wikipedia.org/wiki/Travelling_salesman_problem) is an NP-hard problem in combinatorial optimization studied in operations research and theoretical computer science. Given a list of cities and their pairwise distances, the task is to find the shortest possible route that visits each city exactly once and returns to the origin city. It is a special case of the travelling purchaser problem.\n",
        "\n",
        "[<img src=\"https://github.com/RobInLabUJI/GeneticAlgorithm/raw/main/img/travelling_salesman_problem.jpg\" align=\"right\" width=360>](http://en.wikipedia.org/wiki/Travelling_salesman_problem)\n",
        "\n",
        "The code below shows the use of Pyevolve to solve the TSP. Images of the intermediate and final solutions are stored in the 'tspimg' folder.\n",
        "\n",
        "Your tasks are:\n",
        "1. Create the 'tspimg' folder for storing the images.\n",
        "2. Add the necessary statements for storing the results in a database named 'tsp.db' with identifier 'ex1'.\n",
        "3. For the maximum grade: modify the code to solve the problem with the [ATT 48 dataset](https://github.com/RobInLabUJI/GeneticAlgorithm/raw/main/att48.tsp),  a set of 48 cities (US state capitals) from [TSPLIB](http://comopt.ifi.uni-heidelberg.de/software/TSPLIB95/). Store the results in a database named 'tsp_att48.db' with identifier 'ex1'. For your information, [the optimal cost is 10628](http://comopt.ifi.uni-heidelberg.de/software/TSPLIB95/STSP.html)."
      ]
    },
    {
      "cell_type": "code",
      "execution_count": 21,
      "metadata": {
        "id": "Zr_RRmVPqahj"
      },
      "outputs": [],
      "source": [
        "from pyevolve import G1DList\n",
        "from pyevolve import GSimpleGA\n",
        "from pyevolve import Crossovers\n",
        "from pyevolve import Consts\n",
        "from pyevolve import DBAdapters\n",
        "\n",
        "\n",
        "import random\n",
        "from math import sqrt\n",
        "from PIL import Image, ImageDraw, ImageFont"
      ]
    },
    {
      "cell_type": "code",
      "execution_count": 22,
      "metadata": {
        "id": "gFHCpxGhqahl"
      },
      "outputs": [],
      "source": [
        "cm     = []\n",
        "coords = []\n",
        "CITIES = 30\n",
        "WIDTH   = 600\n",
        "HEIGHT  = 400\n",
        "LAST_SCORE = -1"
      ]
    },
    {
      "cell_type": "code",
      "execution_count": 23,
      "metadata": {
        "id": "xz_3buzkqahm"
      },
      "outputs": [],
      "source": [
        "def cartesian_matrix(coords):\n",
        "    \"\"\" A distance matrix \"\"\"\n",
        "    matrix={}\n",
        "    for i,(x1,y1) in enumerate(coords):\n",
        "        for j,(x2,y2) in enumerate(coords):\n",
        "            dx, dy = x1-x2, y1-y2\n",
        "            dist=sqrt(dx*dx + dy*dy)\n",
        "            matrix[i,j] = dist\n",
        "    return matrix"
      ]
    },
    {
      "cell_type": "code",
      "execution_count": 24,
      "metadata": {
        "id": "bzOI5SpEqahn"
      },
      "outputs": [],
      "source": [
        "def tour_length(matrix, tour):\n",
        "    \"\"\" Returns the total length of the tour \"\"\"\n",
        "    total = 0\n",
        "    t = tour.getInternalList()\n",
        "    for i in range(CITIES):\n",
        "        j      = (i+1)%CITIES\n",
        "        total += matrix[t[i], t[j]]\n",
        "    return total"
      ]
    },
    {
      "cell_type": "code",
      "execution_count": 25,
      "metadata": {
        "id": "s5wEJqLHqahn"
      },
      "outputs": [],
      "source": [
        "def write_tour_to_img(coords, tour, img_file):\n",
        "    \"\"\" The function to plot the graph \"\"\"\n",
        "    padding=20\n",
        "    coords=[(x+padding,y+padding) for (x,y) in coords]\n",
        "    maxx,maxy=0,0\n",
        "    for x,y in coords:\n",
        "        maxx, maxy = max(x,maxx), max(y,maxy)\n",
        "    maxx+=padding\n",
        "    maxy+=padding\n",
        "    img=Image.new(\"RGB\",(int(maxx),int(maxy)),color=(255,255,255))\n",
        "    font=ImageFont.load_default()\n",
        "    d=ImageDraw.Draw(img);\n",
        "    num_cities=len(tour)\n",
        "    for i in range(num_cities):\n",
        "        j=(i+1)%num_cities\n",
        "        city_i=tour[i]\n",
        "        city_j=tour[j]\n",
        "        x1,y1=coords[city_i]\n",
        "        x2,y2=coords[city_j]\n",
        "        d.line((int(x1),int(y1),int(x2),int(y2)),fill=(0,0,0))\n",
        "        d.text((int(x1)+7,int(y1)-5),str(i),font=font,fill=(32,32,32))\n",
        "\n",
        "    for x,y in coords:\n",
        "        x,y=int(x),int(y)\n",
        "        d.ellipse((x-5,y-5,x+5,y+5),outline=(0,0,0),fill=(196,196,196))\n",
        "    del d\n",
        "    img.save(img_file, \"PNG\")\n",
        "    print (\"The plot was saved into the %s file.\" % (img_file,))"
      ]
    },
    {
      "cell_type": "code",
      "execution_count": 26,
      "metadata": {
        "id": "DINv_Ee8qaho"
      },
      "outputs": [],
      "source": [
        "def G1DListTSPInitializator(genome, **args):\n",
        "    \"\"\" The initializator for the TSP \"\"\"\n",
        "    lst = [i for i in range(genome.getListSize())]\n",
        "    random.shuffle(lst)\n",
        "    genome.setInternalList(lst)"
      ]
    },
    {
      "cell_type": "code",
      "execution_count": 27,
      "metadata": {
        "id": "iweVG5hhqaho"
      },
      "outputs": [],
      "source": [
        "def evolve_callback(ga_engine):\n",
        "    global LAST_SCORE\n",
        "    if ga_engine.getCurrentGeneration() % 100 == 0:\n",
        "        best = ga_engine.bestIndividual()\n",
        "        if LAST_SCORE != best.getRawScore():\n",
        "            write_tour_to_img( coords, best, \"tspimg/tsp_result_%05d.png\" % ga_engine.getCurrentGeneration())\n",
        "            LAST_SCORE = best.getRawScore()\n",
        "    return False"
      ]
    },
    {
      "cell_type": "code",
      "execution_count": 28,
      "metadata": {
        "id": "TP1uit7Oqahp"
      },
      "outputs": [],
      "source": [
        "coords = [(random.randint(0, WIDTH), random.randint(0, HEIGHT))\n",
        "             for i in range(CITIES)]\n",
        "cm     = cartesian_matrix(coords)"
      ]
    },
    {
      "cell_type": "code",
      "execution_count": 29,
      "metadata": {
        "id": "mPC-eg4_qahp"
      },
      "outputs": [],
      "source": [
        "genome = G1DList.G1DList(len(coords))\n",
        "genome.evaluator.set(lambda chromosome: tour_length(cm, chromosome))\n",
        "genome.crossover.set(Crossovers.G1DListCrossoverEdge)\n",
        "genome.initializator.set(G1DListTSPInitializator)"
      ]
    },
    {
      "cell_type": "code",
      "source": [
        "sqlite_adapter = DBAdapters.DBSQLite(dbname='tsp.db', identify='ex1', resetDB=True)"
      ],
      "metadata": {
        "id": "pEim7FVrGNA9"
      },
      "execution_count": 30,
      "outputs": []
    },
    {
      "cell_type": "code",
      "execution_count": 31,
      "metadata": {
        "id": "eCcxbD9Uqahq"
      },
      "outputs": [],
      "source": [
        "ga = GSimpleGA.GSimpleGA(genome)\n",
        "ga.setGenerations(2000)\n",
        "ga.setMinimax(Consts.minimaxType[\"minimize\"])\n",
        "ga.setCrossoverRate(1.0)\n",
        "ga.setMutationRate(0.02)\n",
        "ga.setPopulationSize(80)\n",
        "ga.stepCallback.set(evolve_callback)"
      ]
    },
    {
      "cell_type": "code",
      "execution_count": 32,
      "metadata": {
        "id": "40jsKVdIqahq",
        "outputId": "26d02034-a7f2-43f5-c6fb-36fd11c7cbb9",
        "colab": {
          "base_uri": "https://localhost:8080/"
        }
      },
      "outputs": [
        {
          "output_type": "stream",
          "name": "stdout",
          "text": [
            "The plot was saved into the tspimg/tsp_result_00000.png file.\n",
            "Gen. 0 (0.00%): Max/Min/Avg Fitness(Raw)             [8607.79(8226.44)/5725.35(6110.20)/7173.15(7173.15)]\n",
            "The plot was saved into the tspimg/tsp_result_00100.png file.\n",
            "The plot was saved into the tspimg/tsp_result_00200.png file.\n",
            "Gen. 200 (10.00%): Max/Min/Avg Fitness(Raw)             [4027.07(4390.27)/2758.05(2434.53)/3355.89(3355.89)]\n",
            "The plot was saved into the tspimg/tsp_result_00300.png file.\n",
            "Gen. 400 (20.00%): Max/Min/Avg Fitness(Raw)             [4059.47(4559.90)/2720.75(2230.99)/3382.89(3382.89)]\n",
            "Gen. 600 (30.00%): Max/Min/Avg Fitness(Raw)             [4062.28(5067.74)/2920.76(2230.99)/3385.23(3385.23)]\n",
            "Gen. 800 (40.00%): Max/Min/Avg Fitness(Raw)             [4114.82(5231.42)/2973.18(2230.99)/3429.02(3429.02)]\n",
            "Gen. 1000 (50.00%): Max/Min/Avg Fitness(Raw)             [4064.30(4587.86)/2734.92(2230.99)/3386.92(3386.92)]\n",
            "Gen. 1200 (60.00%): Max/Min/Avg Fitness(Raw)             [4022.14(4796.94)/2831.88(2230.99)/3351.78(3351.78)]\n",
            "Gen. 1400 (70.00%): Max/Min/Avg Fitness(Raw)             [3997.88(4766.61)/2820.55(2230.99)/3331.57(3331.57)]\n",
            "Gen. 1600 (80.00%): Max/Min/Avg Fitness(Raw)             [3993.69(4910.31)/2866.55(2230.99)/3328.07(3328.07)]\n",
            "Gen. 1800 (90.00%): Max/Min/Avg Fitness(Raw)             [4180.65(4917.13)/2874.79(2230.99)/3483.88(3483.88)]\n",
            "Gen. 2000 (100.00%): Max/Min/Avg Fitness(Raw)             [4073.85(5279.54)/2975.57(2230.99)/3394.88(3394.88)]\n",
            "Total time elapsed: 13.059 seconds.\n",
            "The plot was saved into the tspimg/tsp_result.png file.\n"
          ]
        }
      ],
      "source": [
        "ga.evolve(freq_stats=200)\n",
        "best = ga.bestIndividual()\n",
        "write_tour_to_img(coords, best, \"tspimg/tsp_result.png\")"
      ]
    },
    {
      "cell_type": "markdown",
      "metadata": {
        "id": "uRqO3-RCqahq"
      },
      "source": [
        "You can check now the results by plotting some graphs of the evolution process in [this notebook](https://github.com/RobInLabUJI/GeneticAlgorithm/blob/main/TSP_check.ipynb)."
      ]
    },
    {
      "cell_type": "code",
      "source": [
        "import sys\n",
        "sys.path.append('/content/Pyevolve')"
      ],
      "metadata": {
        "id": "8OxfQ1IxRLRY"
      },
      "execution_count": 33,
      "outputs": []
    },
    {
      "cell_type": "code",
      "source": [
        "!wget https://github.com/RobInLabUJI/GeneticAlgorithm/raw/main/pyevolve_plot.py"
      ],
      "metadata": {
        "id": "Bitqdv-gRKzq",
        "outputId": "d3e353a0-13f7-4448-cb5e-5c3fcdc38383",
        "colab": {
          "base_uri": "https://localhost:8080/"
        }
      },
      "execution_count": 34,
      "outputs": [
        {
          "output_type": "stream",
          "name": "stdout",
          "text": [
            "--2025-04-24 10:08:46--  https://github.com/RobInLabUJI/GeneticAlgorithm/raw/main/pyevolve_plot.py\n",
            "Resolving github.com (github.com)... 140.82.114.3\n",
            "Connecting to github.com (github.com)|140.82.114.3|:443... connected.\n",
            "HTTP request sent, awaiting response... 302 Found\n",
            "Location: https://raw.githubusercontent.com/RobInLabUJI/GeneticAlgorithm/main/pyevolve_plot.py [following]\n",
            "--2025-04-24 10:08:46--  https://raw.githubusercontent.com/RobInLabUJI/GeneticAlgorithm/main/pyevolve_plot.py\n",
            "Resolving raw.githubusercontent.com (raw.githubusercontent.com)... 185.199.108.133, 185.199.109.133, 185.199.110.133, ...\n",
            "Connecting to raw.githubusercontent.com (raw.githubusercontent.com)|185.199.108.133|:443... connected.\n",
            "HTTP request sent, awaiting response... 200 OK\n",
            "Length: 10520 (10K) [text/plain]\n",
            "Saving to: ‘pyevolve_plot.py’\n",
            "\n",
            "pyevolve_plot.py    100%[===================>]  10.27K  --.-KB/s    in 0s      \n",
            "\n",
            "2025-04-24 10:08:47 (33.5 MB/s) - ‘pyevolve_plot.py’ saved [10520/10520]\n",
            "\n"
          ]
        }
      ]
    },
    {
      "cell_type": "code",
      "source": [],
      "metadata": {
        "id": "s9kmiP3tRQo_"
      },
      "execution_count": 34,
      "outputs": []
    },
    {
      "cell_type": "markdown",
      "metadata": {
        "id": "rYajlOLustIY"
      },
      "source": [
        "# The Travelling Salesperson Problem\n",
        "\n",
        "## Plots\n",
        "\n",
        "Plot the following graphs of the evolution process:\n",
        "* Error bars graph (raw scores).\n",
        "* Error bars graph (fitness scores).\n",
        "* Max/min/avg/std. dev. graph (raw scores).\n",
        "* Max/min/avg/std. dev. graph (fitness scores).\n",
        "* Raw and Fitness min/max difference graph."
      ]
    },
    {
      "cell_type": "code",
      "execution_count": 35,
      "metadata": {
        "id": "46cn-KgtstIb"
      },
      "outputs": [],
      "source": [
        "%matplotlib inline\n",
        "from pyevolve_plot import plot_errorbars_raw, plot_errorbars_fitness, \\\n",
        "                          plot_maxmin_raw, plot_maxmin_fitness, \\\n",
        "                          plot_diff_raw, plot_pop_heatmap_raw"
      ]
    },
    {
      "cell_type": "code",
      "execution_count": 36,
      "metadata": {
        "id": "SoTv3qY1stIc",
        "outputId": "29fd37f4-280e-4f4c-b2aa-93bb6cc2589d",
        "colab": {
          "base_uri": "https://localhost:8080/",
          "height": 280
        }
      },
      "outputs": [
        {
          "output_type": "stream",
          "name": "stdout",
          "text": [
            "Database file 'tsp.db' not found !\n"
          ]
        },
        {
          "output_type": "error",
          "ename": "TypeError",
          "evalue": "object of type 'NoneType' has no len()",
          "traceback": [
            "\u001b[0;31m---------------------------------------------------------------------------\u001b[0m",
            "\u001b[0;31mTypeError\u001b[0m                                 Traceback (most recent call last)",
            "\u001b[0;32m<ipython-input-36-0a314f437ee3>\u001b[0m in \u001b[0;36m<cell line: 0>\u001b[0;34m()\u001b[0m\n\u001b[0;32m----> 1\u001b[0;31m \u001b[0mplot_errorbars_raw\u001b[0m\u001b[0;34m(\u001b[0m\u001b[0;34m'tsp.db'\u001b[0m\u001b[0;34m,\u001b[0m\u001b[0;34m'ex1'\u001b[0m\u001b[0;34m)\u001b[0m\u001b[0;34m\u001b[0m\u001b[0;34m\u001b[0m\u001b[0m\n\u001b[0m",
            "\u001b[0;32m/content/pyevolve_plot.py\u001b[0m in \u001b[0;36mplot_errorbars_raw\u001b[0;34m(dbfile, identify)\u001b[0m\n\u001b[1;32m    323\u001b[0m \u001b[0;32mdef\u001b[0m \u001b[0mplot_errorbars_raw\u001b[0m\u001b[0;34m(\u001b[0m\u001b[0mdbfile\u001b[0m\u001b[0;34m,\u001b[0m \u001b[0midentify\u001b[0m\u001b[0;34m)\u001b[0m\u001b[0;34m:\u001b[0m\u001b[0;34m\u001b[0m\u001b[0;34m\u001b[0m\u001b[0m\n\u001b[1;32m    324\u001b[0m     \u001b[0mpop\u001b[0m \u001b[0;34m=\u001b[0m \u001b[0mload_population\u001b[0m\u001b[0;34m(\u001b[0m\u001b[0mdbfile\u001b[0m\u001b[0;34m,\u001b[0m \u001b[0midentify\u001b[0m\u001b[0;34m)\u001b[0m\u001b[0;34m\u001b[0m\u001b[0;34m\u001b[0m\u001b[0m\n\u001b[0;32m--> 325\u001b[0;31m     \u001b[0;32mif\u001b[0m \u001b[0mlen\u001b[0m\u001b[0;34m(\u001b[0m\u001b[0mpop\u001b[0m\u001b[0;34m)\u001b[0m \u001b[0;34m>\u001b[0m \u001b[0;36m0\u001b[0m\u001b[0;34m:\u001b[0m\u001b[0;34m\u001b[0m\u001b[0;34m\u001b[0m\u001b[0m\n\u001b[0m\u001b[1;32m    326\u001b[0m         \u001b[0mgraph_errorbars_raw\u001b[0m\u001b[0;34m(\u001b[0m\u001b[0mpop\u001b[0m\u001b[0;34m,\u001b[0m \u001b[0midentify\u001b[0m\u001b[0;34m)\u001b[0m\u001b[0;34m\u001b[0m\u001b[0;34m\u001b[0m\u001b[0m\n\u001b[1;32m    327\u001b[0m \u001b[0;34m\u001b[0m\u001b[0m\n",
            "\u001b[0;31mTypeError\u001b[0m: object of type 'NoneType' has no len()"
          ]
        }
      ],
      "source": [
        "plot_errorbars_raw('tsp.db','ex1')"
      ]
    },
    {
      "cell_type": "code",
      "execution_count": 37,
      "metadata": {
        "id": "rKPwQIoXstId",
        "outputId": "165f8fda-a40a-46e0-8a33-44d4efe48270",
        "colab": {
          "base_uri": "https://localhost:8080/",
          "height": 280
        }
      },
      "outputs": [
        {
          "output_type": "stream",
          "name": "stdout",
          "text": [
            "Database file 'tsp.db' not found !\n"
          ]
        },
        {
          "output_type": "error",
          "ename": "TypeError",
          "evalue": "object of type 'NoneType' has no len()",
          "traceback": [
            "\u001b[0;31m---------------------------------------------------------------------------\u001b[0m",
            "\u001b[0;31mTypeError\u001b[0m                                 Traceback (most recent call last)",
            "\u001b[0;32m<ipython-input-37-4e4ecd0131c0>\u001b[0m in \u001b[0;36m<cell line: 0>\u001b[0;34m()\u001b[0m\n\u001b[0;32m----> 1\u001b[0;31m \u001b[0mplot_errorbars_fitness\u001b[0m\u001b[0;34m(\u001b[0m\u001b[0;34m'tsp.db'\u001b[0m\u001b[0;34m,\u001b[0m\u001b[0;34m'ex1'\u001b[0m\u001b[0;34m)\u001b[0m\u001b[0;34m\u001b[0m\u001b[0;34m\u001b[0m\u001b[0m\n\u001b[0m",
            "\u001b[0;32m/content/pyevolve_plot.py\u001b[0m in \u001b[0;36mplot_errorbars_fitness\u001b[0;34m(dbfile, identify)\u001b[0m\n\u001b[1;32m    328\u001b[0m \u001b[0;32mdef\u001b[0m \u001b[0mplot_errorbars_fitness\u001b[0m\u001b[0;34m(\u001b[0m\u001b[0mdbfile\u001b[0m\u001b[0;34m,\u001b[0m \u001b[0midentify\u001b[0m\u001b[0;34m)\u001b[0m\u001b[0;34m:\u001b[0m\u001b[0;34m\u001b[0m\u001b[0;34m\u001b[0m\u001b[0m\n\u001b[1;32m    329\u001b[0m     \u001b[0mpop\u001b[0m \u001b[0;34m=\u001b[0m \u001b[0mload_population\u001b[0m\u001b[0;34m(\u001b[0m\u001b[0mdbfile\u001b[0m\u001b[0;34m,\u001b[0m \u001b[0midentify\u001b[0m\u001b[0;34m)\u001b[0m\u001b[0;34m\u001b[0m\u001b[0;34m\u001b[0m\u001b[0m\n\u001b[0;32m--> 330\u001b[0;31m     \u001b[0;32mif\u001b[0m \u001b[0mlen\u001b[0m\u001b[0;34m(\u001b[0m\u001b[0mpop\u001b[0m\u001b[0;34m)\u001b[0m \u001b[0;34m>\u001b[0m \u001b[0;36m0\u001b[0m\u001b[0;34m:\u001b[0m\u001b[0;34m\u001b[0m\u001b[0;34m\u001b[0m\u001b[0m\n\u001b[0m\u001b[1;32m    331\u001b[0m         \u001b[0mgraph_errorbars_fitness\u001b[0m\u001b[0;34m(\u001b[0m\u001b[0mpop\u001b[0m\u001b[0;34m,\u001b[0m \u001b[0midentify\u001b[0m\u001b[0;34m)\u001b[0m\u001b[0;34m\u001b[0m\u001b[0;34m\u001b[0m\u001b[0m\n\u001b[1;32m    332\u001b[0m \u001b[0;34m\u001b[0m\u001b[0m\n",
            "\u001b[0;31mTypeError\u001b[0m: object of type 'NoneType' has no len()"
          ]
        }
      ],
      "source": [
        "plot_errorbars_fitness('tsp.db','ex1')"
      ]
    },
    {
      "cell_type": "code",
      "execution_count": null,
      "metadata": {
        "id": "EPNgvPLpstId"
      },
      "outputs": [],
      "source": [
        "plot_maxmin_raw('tsp.db','ex1')"
      ]
    },
    {
      "cell_type": "code",
      "execution_count": null,
      "metadata": {
        "id": "v3G5zZqsstId"
      },
      "outputs": [],
      "source": [
        "plot_maxmin_fitness('tsp.db','ex1')"
      ]
    },
    {
      "cell_type": "code",
      "execution_count": null,
      "metadata": {
        "id": "pmxbvPS8stIe"
      },
      "outputs": [],
      "source": [
        "plot_diff_raw('tsp.db','ex1')"
      ]
    },
    {
      "cell_type": "markdown",
      "metadata": {
        "id": "eOARldpRstIe"
      },
      "source": [
        "## Route images\n",
        "\n",
        "Plot the images of the routes stored in the 'tspimg' folder."
      ]
    },
    {
      "cell_type": "code",
      "execution_count": 38,
      "metadata": {
        "id": "Eku8gRGIstIe"
      },
      "outputs": [],
      "source": [
        "import matplotlib.pyplot as plt\n",
        "from PIL import Image"
      ]
    },
    {
      "cell_type": "code",
      "execution_count": 39,
      "metadata": {
        "id": "tImwzaPxstIf"
      },
      "outputs": [],
      "source": [
        "import glob\n",
        "images = glob.glob(\"tsp_result_*.png\")"
      ]
    },
    {
      "cell_type": "code",
      "execution_count": 40,
      "metadata": {
        "id": "TU-3-OYlstIf"
      },
      "outputs": [],
      "source": [
        "for im in images:\n",
        "    tsp_result = Image.open(im)\n",
        "    print(\"Generation %d\" % int(im[18:-4]))\n",
        "    plt.imshow(tsp_result)\n",
        "    plt.show()"
      ]
    },
    {
      "cell_type": "code",
      "execution_count": 42,
      "metadata": {
        "id": "_aCWBfQystIf",
        "outputId": "86f0808d-02cf-4be3-91ca-4ae3c6fb5113",
        "colab": {
          "base_uri": "https://localhost:8080/",
          "height": 452
        }
      },
      "outputs": [
        {
          "output_type": "stream",
          "name": "stdout",
          "text": [
            "Final best individual\n"
          ]
        },
        {
          "output_type": "display_data",
          "data": {
            "text/plain": [
              "<Figure size 640x480 with 1 Axes>"
            ],
            "image/png": "[encoded data removed]"
          },
          "metadata": {}
        }
      ],
      "source": [
        "print('Final best individual')\n",
        "tsp_result = Image.open('tspimg/tsp_result.png')\n",
        "plt.imshow(tsp_result);"
      ]
    },
    {
      "cell_type": "code",
      "execution_count": 43,
      "metadata": {
        "id": "HqnhAAicstIg",
        "outputId": "b236b451-7bcf-46aa-d84b-862e1fff265c",
        "colab": {
          "base_uri": "https://localhost:8080/"
        }
      },
      "outputs": [
        {
          "output_type": "stream",
          "name": "stdout",
          "text": [
            "rm: cannot remove 'tsp_result*.png': No such file or directory\n"
          ]
        }
      ],
      "source": [
        "! rm -r \"tspimg/tsp_result*.png\""
      ]
    }
  ],
  "metadata": {
    "anaconda-cloud": {},
    "kernelspec": {
      "display_name": "Python 3",
      "language": "python",
      "name": "python3"
    },
    "language_info": {
      "codemirror_mode": {
        "name": "ipython",
        "version": 3
      },
      "file_extension": ".py",
      "mimetype": "text/x-python",
      "name": "python",
      "nbconvert_exporter": "python",
      "pygments_lexer": "ipython3",
      "version": "3.8.10"
    },
    "colab": {
      "provenance": [],
      "include_colab_link": true
    }
  },
  "nbformat": 4,
  "nbformat_minor": 0
}